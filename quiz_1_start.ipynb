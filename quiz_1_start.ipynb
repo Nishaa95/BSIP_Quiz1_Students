{
 "cells": [
  {
   "cell_type": "code",
   "execution_count": 22,
   "metadata": {},
   "outputs": [],
   "source": [
    "import thinkplot\n",
    "import thinkstats2\n",
    "import pandas as pd\n",
    "import numpy as np\n",
    "import seaborn as sns"
   ]
  },
  {
   "cell_type": "markdown",
   "metadata": {},
   "source": [
    "## Quiz 1\n",
    "\n",
    "Use this file as a starting point for your work. You are free to add/import any other libaries that you may want, though you shouldn't need much more, if anything. \n",
    "\n",
    "There are multiple approaches to solve each of the challenges. It is probably easiest to create a function that calculates a generic version of a solution, then takes in arguments for which data to use. There is an example of one of the functions I used to make a solution below. \n",
    "\n",
    "Please push you finished work into a repository on your github and paste the link in the final question. The responses on Moodle are what is graded, but your code will be glanced at to ensure you actually did the work and didn't do the calculations somewhere else. "
   ]
  },
  {
   "cell_type": "markdown",
   "metadata": {},
   "source": [
    "### Example Function"
   ]
  },
  {
   "cell_type": "code",
   "execution_count": 23,
   "metadata": {},
   "outputs": [],
   "source": [
    "# Here is the framework of my function for the first set of challenges\n",
    "\n",
    "#def rangeMag(df_in, columnName):\n",
    "# ...SOME CODE THAT CALCULATES STUFF...\n",
    "#    return retVal\n",
    "\n",
    "# When calling the function to use the code, it would look like this...\n",
    "\n",
    "# Nodeg\n",
    "#print(rangeMag(df, \"Nodeg\"))\n",
    "# Earnings_1974\n",
    "#print(rangeMag(df, \"Earnings_1974\"))\n",
    "# Earnings_1975\n",
    "#print(rangeMag(df, \"Earnings_1975\"))\n",
    "# Earnings_1978\n",
    "#print(rangeMag(df, \"Earnings_1978\"))\n"
   ]
  },
  {
   "cell_type": "markdown",
   "metadata": {},
   "source": [
    "### Load Some Data"
   ]
  },
  {
   "cell_type": "code",
   "execution_count": 24,
   "metadata": {},
   "outputs": [
    {
     "data": {
      "text/html": [
       "<div>\n",
       "<style scoped>\n",
       "    .dataframe tbody tr th:only-of-type {\n",
       "        vertical-align: middle;\n",
       "    }\n",
       "\n",
       "    .dataframe tbody tr th {\n",
       "        vertical-align: top;\n",
       "    }\n",
       "\n",
       "    .dataframe thead th {\n",
       "        text-align: right;\n",
       "    }\n",
       "</style>\n",
       "<table border=\"1\" class=\"dataframe\">\n",
       "  <thead>\n",
       "    <tr style=\"text-align: right;\">\n",
       "      <th></th>\n",
       "      <th>Age</th>\n",
       "      <th>Eduacation</th>\n",
       "      <th>Race</th>\n",
       "      <th>Hisp</th>\n",
       "      <th>MaritalStatus</th>\n",
       "      <th>Nodeg</th>\n",
       "      <th>Earnings_1974</th>\n",
       "      <th>Earnings_1975</th>\n",
       "      <th>Earnings_1978</th>\n",
       "    </tr>\n",
       "  </thead>\n",
       "  <tbody>\n",
       "    <tr>\n",
       "      <th>0</th>\n",
       "      <td>45</td>\n",
       "      <td>LessThanHighSchool</td>\n",
       "      <td>NotBlack</td>\n",
       "      <td>NotHispanic</td>\n",
       "      <td>Married</td>\n",
       "      <td>1</td>\n",
       "      <td>21516.670</td>\n",
       "      <td>25243.550</td>\n",
       "      <td>25564.670</td>\n",
       "    </tr>\n",
       "    <tr>\n",
       "      <th>1</th>\n",
       "      <td>21</td>\n",
       "      <td>Intermediate</td>\n",
       "      <td>NotBlack</td>\n",
       "      <td>NotHispanic</td>\n",
       "      <td>NotMarried</td>\n",
       "      <td>0</td>\n",
       "      <td>3175.971</td>\n",
       "      <td>5852.565</td>\n",
       "      <td>13496.080</td>\n",
       "    </tr>\n",
       "    <tr>\n",
       "      <th>2</th>\n",
       "      <td>38</td>\n",
       "      <td>HighSchool</td>\n",
       "      <td>NotBlack</td>\n",
       "      <td>NotHispanic</td>\n",
       "      <td>Married</td>\n",
       "      <td>0</td>\n",
       "      <td>23039.020</td>\n",
       "      <td>25130.760</td>\n",
       "      <td>25564.670</td>\n",
       "    </tr>\n",
       "    <tr>\n",
       "      <th>3</th>\n",
       "      <td>48</td>\n",
       "      <td>LessThanHighSchool</td>\n",
       "      <td>NotBlack</td>\n",
       "      <td>NotHispanic</td>\n",
       "      <td>Married</td>\n",
       "      <td>1</td>\n",
       "      <td>24994.370</td>\n",
       "      <td>25243.550</td>\n",
       "      <td>25564.670</td>\n",
       "    </tr>\n",
       "    <tr>\n",
       "      <th>4</th>\n",
       "      <td>18</td>\n",
       "      <td>LessThanHighSchool</td>\n",
       "      <td>NotBlack</td>\n",
       "      <td>NotHispanic</td>\n",
       "      <td>Married</td>\n",
       "      <td>1</td>\n",
       "      <td>1669.295</td>\n",
       "      <td>10727.610</td>\n",
       "      <td>9860.869</td>\n",
       "    </tr>\n",
       "  </tbody>\n",
       "</table>\n",
       "</div>"
      ],
      "text/plain": [
       "   Age          Eduacation      Race         Hisp MaritalStatus  Nodeg  \\\n",
       "0   45  LessThanHighSchool  NotBlack  NotHispanic       Married      1   \n",
       "1   21        Intermediate  NotBlack  NotHispanic    NotMarried      0   \n",
       "2   38          HighSchool  NotBlack  NotHispanic       Married      0   \n",
       "3   48  LessThanHighSchool  NotBlack  NotHispanic       Married      1   \n",
       "4   18  LessThanHighSchool  NotBlack  NotHispanic       Married      1   \n",
       "\n",
       "   Earnings_1974  Earnings_1975  Earnings_1978  \n",
       "0      21516.670      25243.550      25564.670  \n",
       "1       3175.971       5852.565      13496.080  \n",
       "2      23039.020      25130.760      25564.670  \n",
       "3      24994.370      25243.550      25564.670  \n",
       "4       1669.295      10727.610       9860.869  "
      ]
     },
     "execution_count": 24,
     "metadata": {},
     "output_type": "execute_result"
    }
   ],
   "source": [
    "df = pd.read_csv(\"LabourTrainingEvaluationData.csv\")\n",
    "df.head()"
   ]
  },
  {
   "cell_type": "markdown",
   "metadata": {},
   "source": [
    "### Challenge 1 - Magnitude of Range"
   ]
  },
  {
   "cell_type": "code",
   "execution_count": 25,
   "metadata": {},
   "outputs": [
    {
     "name": "stdout",
     "output_type": "stream",
     "text": [
      "1\n",
      "25862.32\n",
      "25243.55\n",
      "25564.67\n"
     ]
    }
   ],
   "source": [
    "def rangeMag(df_in, columnName):\n",
    "    retVal= df_in[columnName].max()-df_in[columnName].min()\n",
    "    return retVal\n",
    "\n",
    "# When calling the function to use the code, it would look like this...\n",
    "\n",
    "# Nodeg\n",
    "print(rangeMag(df, \"Nodeg\"))\n",
    "# Earnings_1974\n",
    "print(rangeMag(df, \"Earnings_1974\"))\n",
    "# Earnings_1975\n",
    "print(rangeMag(df, \"Earnings_1975\"))\n",
    "# Earnings_1978\n",
    "print(rangeMag(df, \"Earnings_1978\"))\n"
   ]
  },
  {
   "cell_type": "code",
   "execution_count": 26,
   "metadata": {},
   "outputs": [
    {
     "data": {
      "text/plain": [
       "1"
      ]
     },
     "execution_count": 26,
     "metadata": {},
     "output_type": "execute_result"
    }
   ],
   "source": [
    "df[\"Nodeg\"].max()-df[\"Nodeg\"].min()"
   ]
  },
  {
   "cell_type": "code",
   "execution_count": 27,
   "metadata": {},
   "outputs": [
    {
     "data": {
      "text/plain": [
       "25862.32"
      ]
     },
     "execution_count": 27,
     "metadata": {},
     "output_type": "execute_result"
    }
   ],
   "source": [
    "df[\"Earnings_1974\"].max()-df[\"Earnings_1974\"].min()"
   ]
  },
  {
   "cell_type": "code",
   "execution_count": 28,
   "metadata": {},
   "outputs": [
    {
     "data": {
      "text/plain": [
       "25243.55"
      ]
     },
     "execution_count": 28,
     "metadata": {},
     "output_type": "execute_result"
    }
   ],
   "source": [
    "df[\"Earnings_1975\"].max()-df[\"Earnings_1975\"].min()"
   ]
  },
  {
   "cell_type": "code",
   "execution_count": 29,
   "metadata": {},
   "outputs": [
    {
     "data": {
      "text/plain": [
       "25564.67"
      ]
     },
     "execution_count": 29,
     "metadata": {},
     "output_type": "execute_result"
    }
   ],
   "source": [
    "df[\"Earnings_1978\"].max()-df[\"Earnings_1978\"].min()\n"
   ]
  },
  {
   "cell_type": "code",
   "execution_count": 30,
   "metadata": {},
   "outputs": [
    {
     "data": {
      "text/plain": [
       "15992"
      ]
     },
     "execution_count": 30,
     "metadata": {},
     "output_type": "execute_result"
    }
   ],
   "source": [
    "df[\"Nodeg\"].value_counts().sum()"
   ]
  },
  {
   "cell_type": "code",
   "execution_count": 31,
   "metadata": {},
   "outputs": [
    {
     "data": {
      "text/plain": [
       "18524.914500000003"
      ]
     },
     "execution_count": 31,
     "metadata": {},
     "output_type": "execute_result"
    }
   ],
   "source": [
    "q75,q25=np.percentile(df['Earnings_1975'],[75,25])\n",
    "r=q75-q25\n",
    "r"
   ]
  },
  {
   "cell_type": "markdown",
   "metadata": {},
   "source": [
    "### Challenge 2 - Percent of Values Above a Value"
   ]
  },
  {
   "cell_type": "code",
   "execution_count": 32,
   "metadata": {},
   "outputs": [
    {
     "data": {
      "text/plain": [
       "33.74187093546773"
      ]
     },
     "execution_count": 32,
     "metadata": {},
     "output_type": "execute_result"
    }
   ],
   "source": [
    "cdf_1974= thinkstats2.Cdf(df[\"Earnings_1975\"])\n",
    "100 - cdf_1974.PercentileRank(20000)"
   ]
  },
  {
   "cell_type": "code",
   "execution_count": 33,
   "metadata": {},
   "outputs": [
    {
     "data": {
      "text/plain": [
       "27.282391195597796"
      ]
     },
     "execution_count": 33,
     "metadata": {},
     "output_type": "execute_result"
    }
   ],
   "source": [
    "cdf_1978= thinkstats2.Cdf(df[\"Earnings_1978\"])\n",
    "100 - cdf_1978.PercentileRank(25000)"
   ]
  },
  {
   "cell_type": "code",
   "execution_count": 34,
   "metadata": {},
   "outputs": [
    {
     "data": {
      "text/plain": [
       "14557.11"
      ]
     },
     "execution_count": 34,
     "metadata": {},
     "output_type": "execute_result"
    }
   ],
   "source": [
    "med_75 =np.median(df[\"Earnings_1975\"])\n",
    "med_75"
   ]
  },
  {
   "cell_type": "code",
   "execution_count": 35,
   "metadata": {},
   "outputs": [
    {
     "data": {
      "text/plain": [
       "55.21510755377689"
      ]
     },
     "execution_count": 35,
     "metadata": {},
     "output_type": "execute_result"
    }
   ],
   "source": [
    "100-cdf_1978.PercentileRank(14557.11)"
   ]
  },
  {
   "cell_type": "markdown",
   "metadata": {},
   "source": [
    "### Challenge 3 - Mean of Differences"
   ]
  },
  {
   "cell_type": "code",
   "execution_count": 36,
   "metadata": {},
   "outputs": [],
   "source": [
    "df1=df[\"Earnings_1975\"]-df[\"Earnings_1978\"]"
   ]
  },
  {
   "cell_type": "code",
   "execution_count": 37,
   "metadata": {},
   "outputs": [
    {
     "data": {
      "text/plain": [
       "-1195.8562968346355"
      ]
     },
     "execution_count": 37,
     "metadata": {},
     "output_type": "execute_result"
    }
   ],
   "source": [
    "df1.mean()"
   ]
  },
  {
   "cell_type": "code",
   "execution_count": 38,
   "metadata": {},
   "outputs": [
    {
     "data": {
      "text/plain": [
       "1195.8562968346355"
      ]
     },
     "execution_count": 38,
     "metadata": {},
     "output_type": "execute_result"
    }
   ],
   "source": [
    "df2=df[\"Earnings_1978\"]-df[\"Earnings_1975\"]\n",
    "np.mean(df2)"
   ]
  },
  {
   "cell_type": "code",
   "execution_count": 39,
   "metadata": {},
   "outputs": [
    {
     "data": {
      "text/plain": [
       "829.8593687151432"
      ]
     },
     "execution_count": 39,
     "metadata": {},
     "output_type": "execute_result"
    }
   ],
   "source": [
    "df3=df[\"Earnings_1978\"]-df[\"Earnings_1974\"]\n",
    "np.mean(df3)"
   ]
  },
  {
   "cell_type": "code",
   "execution_count": 54,
   "metadata": {},
   "outputs": [
    {
     "data": {
      "text/plain": [
       "-829.8593687151432"
      ]
     },
     "execution_count": 54,
     "metadata": {},
     "output_type": "execute_result"
    }
   ],
   "source": [
    "df3[\"fiff\"]=df[\"Earnings_1974\"]-df[\"Earnings_1978\"]\n",
    "df3[\"fiff\"].mean()"
   ]
  },
  {
   "cell_type": "code",
   "execution_count": 55,
   "metadata": {},
   "outputs": [
    {
     "name": "stdout",
     "output_type": "stream",
     "text": [
      "-829.8593687151432\n"
     ]
    }
   ],
   "source": [
    "df[\"diff\"] = df[\"Earnings_1974\"]-df[\"Earnings_1978\"]\n",
    "#df[\"diff\"] = df[\"diff\"].abs()\n",
    "print(df[\"diff\"].mean())"
   ]
  },
  {
   "cell_type": "code",
   "execution_count": 51,
   "metadata": {},
   "outputs": [
    {
     "name": "stdout",
     "output_type": "stream",
     "text": [
      "0.0\n",
      "5364.019479787908\n"
     ]
    }
   ],
   "source": [
    "def MeanOfDifference(df_in, column1, column2):\n",
    "    df_in[\"diff\"] = df_in[column1] - df_in[column2]\n",
    "    df_in[\"diff\"] = df_in[\"diff\"].abs()\n",
    "    print(df_in[\"diff\"].mean())\n",
    "    # print(df_in[[\"Earnings_1975\", \"Earnings_1975\", \"diff\"]].head(20))\n",
    "\n",
    "MeanOfDifference(df, \"Earnings_1975\", \"Earnings_1975\")\n",
    "MeanOfDifference(df, \"Earnings_1974\", \"Earnings_1978\")"
   ]
  },
  {
   "cell_type": "code",
   "execution_count": 41,
   "metadata": {},
   "outputs": [
    {
     "data": {
      "text/plain": [
       "count     7808.000000\n",
       "mean     15634.539714\n",
       "std       5586.418750\n",
       "min       5000.627000\n",
       "25%      11014.970000\n",
       "50%      15813.150000\n",
       "75%      20523.037500\n",
       "max      24998.700000\n",
       "Name: Earnings_1978, dtype: float64"
      ]
     },
     "execution_count": 41,
     "metadata": {},
     "output_type": "execute_result"
    }
   ],
   "source": [
    "df_out = df[df[\"Earnings_1978\"] > 5000]\n",
    "df_out=  df_out[df_out[\"Earnings_1978\"] < 25000]\n",
    "df_out[\"Earnings_1978\"].describe()"
   ]
  },
  {
   "cell_type": "markdown",
   "metadata": {},
   "source": [
    "### Challenge 4 - Count of Values in Range"
   ]
  },
  {
   "cell_type": "code",
   "execution_count": 42,
   "metadata": {},
   "outputs": [
    {
     "data": {
      "text/plain": [
       "2054"
      ]
     },
     "execution_count": 42,
     "metadata": {},
     "output_type": "execute_result"
    }
   ],
   "source": [
    "df1= df[df[\"Earnings_1974\"]>=10000]\n",
    "df1=df1[df1[\"Earnings_1974\"]<=15000]\n",
    "df1[\"Earnings_1974\"].value_counts().sum()"
   ]
  },
  {
   "cell_type": "markdown",
   "metadata": {},
   "source": [
    "### Challenge 5 - Basic Stats Calculations"
   ]
  },
  {
   "cell_type": "code",
   "execution_count": 43,
   "metadata": {},
   "outputs": [
    {
     "data": {
      "text/plain": [
       "13468"
      ]
     },
     "execution_count": 43,
     "metadata": {},
     "output_type": "execute_result"
    }
   ],
   "source": [
    "dfa= df[df[\"Age\"]>=18]\n",
    "dfa=dfa[dfa[\"Age\"]<=49]\n",
    "dfa[\"Age\"].value_counts().sum()"
   ]
  },
  {
   "cell_type": "code",
   "execution_count": 44,
   "metadata": {},
   "outputs": [
    {
     "data": {
      "text/plain": [
       "(14846.659672906011, 16421.975)"
      ]
     },
     "execution_count": 44,
     "metadata": {},
     "output_type": "execute_result"
    }
   ],
   "source": [
    "m1=np.mean(df[\"Earnings_1978\"])\n",
    "m2=np.median(df[\"Earnings_1978\"])\n",
    "m1,m2"
   ]
  },
  {
   "cell_type": "code",
   "execution_count": 45,
   "metadata": {},
   "outputs": [
    {
     "data": {
      "text/plain": [
       "5478"
      ]
     },
     "execution_count": 45,
     "metadata": {},
     "output_type": "execute_result"
    }
   ],
   "source": [
    "df_a= df[df[\"Age\"]>=20]\n",
    "df_a=df_a[df_a[\"Age\"]<30]\n",
    "df_a[\"Age\"].value_counts().sum()"
   ]
  },
  {
   "cell_type": "code",
   "execution_count": 46,
   "metadata": {},
   "outputs": [
    {
     "data": {
      "text/plain": [
       "297"
      ]
     },
     "execution_count": 46,
     "metadata": {},
     "output_type": "execute_result"
    }
   ],
   "source": [
    "df1= df_a[df_a[\"Earnings_1978\"]>=14846.65]\n",
    "df1=df1[df1[\"Earnings_1978\"]<=16421.97]\n",
    "df1[\"Earnings_1978\"].value_counts().sum()"
   ]
  },
  {
   "cell_type": "markdown",
   "metadata": {},
   "source": [
    "### Challenge 6 - Cohort Calculations\n",
    "\n",
    "Here is some sample code that may be helpful:\n",
    "\n",
    "```python\n",
    "#Modification of cohort code to send back a tuple of results. \n",
    "#You could do this more manually as well.\n",
    "def cohort(df_in, cohort1, cohort2, cohort3, earningsColumn):\n",
    "    df_in[\"Cohort\"] = (df_in[cohort1]+df_in[cohort2]+df_in[cohort3])\n",
    "    cohortList = df_in[\"Cohort\"].unique()\n",
    "    i = 0\n",
    "    resList = []\n",
    "    while i < cohortList.size:\n",
    "        tmp = df_in[df_in.Cohort == cohortList[i]]\n",
    "        histTmp = thinkstats2.Hist(round(tmp[earningsColumn], -3))\n",
    "        resList.append((histTmp, cohortList[i], tmp[earningsColumn].median()))\n",
    "        i = i + 1\n",
    "    return resList\n",
    "```"
   ]
  },
  {
   "cell_type": "code",
   "execution_count": 47,
   "metadata": {},
   "outputs": [],
   "source": [
    "def cohort(df_in, cohort1, cohort2, cohort3, earningsColumn):\n",
    "    df_in[\"Cohort\"] = (df_in[cohort1]+df_in[cohort2]+df_in[cohort3])\n",
    "    cohortList = df_in[\"Cohort\"].unique()\n",
    "    i = 0\n",
    "    resList = []\n",
    "    while i < cohortList.size:\n",
    "        tmp = df_in[df_in.Cohort == cohortList[i]]\n",
    "        histTmp = thinkstats2.Hist(round(tmp[earningsColumn], -3))\n",
    "        resList.append((histTmp, cohortList[i], tmp[earningsColumn].median()))\n",
    "        \n",
    "        i = i + 1\n",
    "    return resList"
   ]
  },
  {
   "cell_type": "code",
   "execution_count": 49,
   "metadata": {},
   "outputs": [
    {
     "ename": "KeyError",
     "evalue": "'Marital Status'",
     "output_type": "error",
     "traceback": [
      "\u001b[1;31m---------------------------------------------------------------------------\u001b[0m",
      "\u001b[1;31mKeyError\u001b[0m                                  Traceback (most recent call last)",
      "\u001b[1;32m~\\AppData\\Local\\Temp\\ipykernel_15280\\348536552.py\u001b[0m in \u001b[0;36m<module>\u001b[1;34m\u001b[0m\n\u001b[1;32m----> 1\u001b[1;33m \u001b[0mprint\u001b[0m\u001b[1;33m(\u001b[0m\u001b[0mdf\u001b[0m\u001b[1;33m.\u001b[0m\u001b[0mgroupby\u001b[0m\u001b[1;33m(\u001b[0m\u001b[1;33m[\u001b[0m\u001b[1;34m'Race'\u001b[0m\u001b[1;33m,\u001b[0m\u001b[1;34m'Hisp'\u001b[0m\u001b[1;33m,\u001b[0m\u001b[1;34m'Marital Status'\u001b[0m\u001b[1;33m]\u001b[0m\u001b[1;33m)\u001b[0m\u001b[1;33m[\u001b[0m\u001b[1;34m'Earnings_1978'\u001b[0m\u001b[1;33m]\u001b[0m\u001b[1;33m.\u001b[0m\u001b[0mmedian\u001b[0m\u001b[1;33m(\u001b[0m\u001b[1;33m)\u001b[0m\u001b[1;33m)\u001b[0m\u001b[1;33m\u001b[0m\u001b[1;33m\u001b[0m\u001b[0m\n\u001b[0m\u001b[0;32m      2\u001b[0m \u001b[0mprint\u001b[0m\u001b[1;33m(\u001b[0m\u001b[0mdf\u001b[0m\u001b[1;33m.\u001b[0m\u001b[0mgroupby\u001b[0m\u001b[1;33m(\u001b[0m\u001b[1;33m[\u001b[0m\u001b[1;34m'Race'\u001b[0m\u001b[1;33m,\u001b[0m\u001b[1;34m'Hisp'\u001b[0m\u001b[1;33m,\u001b[0m\u001b[1;34m'Eduacation'\u001b[0m\u001b[1;33m]\u001b[0m\u001b[1;33m)\u001b[0m\u001b[1;33m[\u001b[0m\u001b[1;34m'Earnings_1978'\u001b[0m\u001b[1;33m]\u001b[0m\u001b[1;33m.\u001b[0m\u001b[0mmedian\u001b[0m\u001b[1;33m(\u001b[0m\u001b[1;33m)\u001b[0m\u001b[1;33m)\u001b[0m\u001b[1;33m\u001b[0m\u001b[1;33m\u001b[0m\u001b[0m\n",
      "\u001b[1;32mc:\\Users\\nisha\\anaconda3\\lib\\site-packages\\pandas\\core\\frame.py\u001b[0m in \u001b[0;36mgroupby\u001b[1;34m(self, by, axis, level, as_index, sort, group_keys, squeeze, observed, dropna)\u001b[0m\n\u001b[0;32m   7716\u001b[0m         \u001b[1;31m# error: Argument \"squeeze\" to \"DataFrameGroupBy\" has incompatible type\u001b[0m\u001b[1;33m\u001b[0m\u001b[1;33m\u001b[0m\u001b[0m\n\u001b[0;32m   7717\u001b[0m         \u001b[1;31m# \"Union[bool, NoDefault]\"; expected \"bool\"\u001b[0m\u001b[1;33m\u001b[0m\u001b[1;33m\u001b[0m\u001b[0m\n\u001b[1;32m-> 7718\u001b[1;33m         return DataFrameGroupBy(\n\u001b[0m\u001b[0;32m   7719\u001b[0m             \u001b[0mobj\u001b[0m\u001b[1;33m=\u001b[0m\u001b[0mself\u001b[0m\u001b[1;33m,\u001b[0m\u001b[1;33m\u001b[0m\u001b[1;33m\u001b[0m\u001b[0m\n\u001b[0;32m   7720\u001b[0m             \u001b[0mkeys\u001b[0m\u001b[1;33m=\u001b[0m\u001b[0mby\u001b[0m\u001b[1;33m,\u001b[0m\u001b[1;33m\u001b[0m\u001b[1;33m\u001b[0m\u001b[0m\n",
      "\u001b[1;32mc:\\Users\\nisha\\anaconda3\\lib\\site-packages\\pandas\\core\\groupby\\groupby.py\u001b[0m in \u001b[0;36m__init__\u001b[1;34m(self, obj, keys, axis, level, grouper, exclusions, selection, as_index, sort, group_keys, squeeze, observed, mutated, dropna)\u001b[0m\n\u001b[0;32m    880\u001b[0m             \u001b[1;32mfrom\u001b[0m \u001b[0mpandas\u001b[0m\u001b[1;33m.\u001b[0m\u001b[0mcore\u001b[0m\u001b[1;33m.\u001b[0m\u001b[0mgroupby\u001b[0m\u001b[1;33m.\u001b[0m\u001b[0mgrouper\u001b[0m \u001b[1;32mimport\u001b[0m \u001b[0mget_grouper\u001b[0m\u001b[1;33m\u001b[0m\u001b[1;33m\u001b[0m\u001b[0m\n\u001b[0;32m    881\u001b[0m \u001b[1;33m\u001b[0m\u001b[0m\n\u001b[1;32m--> 882\u001b[1;33m             grouper, exclusions, obj = get_grouper(\n\u001b[0m\u001b[0;32m    883\u001b[0m                 \u001b[0mobj\u001b[0m\u001b[1;33m,\u001b[0m\u001b[1;33m\u001b[0m\u001b[1;33m\u001b[0m\u001b[0m\n\u001b[0;32m    884\u001b[0m                 \u001b[0mkeys\u001b[0m\u001b[1;33m,\u001b[0m\u001b[1;33m\u001b[0m\u001b[1;33m\u001b[0m\u001b[0m\n",
      "\u001b[1;32mc:\\Users\\nisha\\anaconda3\\lib\\site-packages\\pandas\\core\\groupby\\grouper.py\u001b[0m in \u001b[0;36mget_grouper\u001b[1;34m(obj, key, axis, level, sort, observed, mutated, validate, dropna)\u001b[0m\n\u001b[0;32m    880\u001b[0m                 \u001b[0min_axis\u001b[0m\u001b[1;33m,\u001b[0m \u001b[0mlevel\u001b[0m\u001b[1;33m,\u001b[0m \u001b[0mgpr\u001b[0m \u001b[1;33m=\u001b[0m \u001b[1;32mFalse\u001b[0m\u001b[1;33m,\u001b[0m \u001b[0mgpr\u001b[0m\u001b[1;33m,\u001b[0m \u001b[1;32mNone\u001b[0m\u001b[1;33m\u001b[0m\u001b[1;33m\u001b[0m\u001b[0m\n\u001b[0;32m    881\u001b[0m             \u001b[1;32melse\u001b[0m\u001b[1;33m:\u001b[0m\u001b[1;33m\u001b[0m\u001b[1;33m\u001b[0m\u001b[0m\n\u001b[1;32m--> 882\u001b[1;33m                 \u001b[1;32mraise\u001b[0m \u001b[0mKeyError\u001b[0m\u001b[1;33m(\u001b[0m\u001b[0mgpr\u001b[0m\u001b[1;33m)\u001b[0m\u001b[1;33m\u001b[0m\u001b[1;33m\u001b[0m\u001b[0m\n\u001b[0m\u001b[0;32m    883\u001b[0m         \u001b[1;32melif\u001b[0m \u001b[0misinstance\u001b[0m\u001b[1;33m(\u001b[0m\u001b[0mgpr\u001b[0m\u001b[1;33m,\u001b[0m \u001b[0mGrouper\u001b[0m\u001b[1;33m)\u001b[0m \u001b[1;32mand\u001b[0m \u001b[0mgpr\u001b[0m\u001b[1;33m.\u001b[0m\u001b[0mkey\u001b[0m \u001b[1;32mis\u001b[0m \u001b[1;32mnot\u001b[0m \u001b[1;32mNone\u001b[0m\u001b[1;33m:\u001b[0m\u001b[1;33m\u001b[0m\u001b[1;33m\u001b[0m\u001b[0m\n\u001b[0;32m    884\u001b[0m             \u001b[1;31m# Add key to exclusions\u001b[0m\u001b[1;33m\u001b[0m\u001b[1;33m\u001b[0m\u001b[0m\n",
      "\u001b[1;31mKeyError\u001b[0m: 'Marital Status'"
     ]
    }
   ],
   "source": [
    "print(df.groupby(['Race','Hisp','Marital Status'])['Earnings_1978'].median())\n",
    "print(df.groupby(['Race','Hisp','Eduacation'])['Earnings_1978'].median())"
   ]
  },
  {
   "cell_type": "code",
   "execution_count": 50,
   "metadata": {},
   "outputs": [
    {
     "name": "stdout",
     "output_type": "stream",
     "text": [
      "Race      Hisp         MaritalStatus\n",
      "black     NotHispanic  NotMarried        7862.9830\n",
      "NotBlack  hispanic     NotMarried        9350.3145\n",
      "          NotHispanic  NotMarried       10431.2700\n",
      "black     NotHispanic  Married          15174.7700\n",
      "NotBlack  hispanic     Married          15636.5600\n",
      "          NotHispanic  Married          20462.0800\n",
      "Name: Earnings_1978, dtype: float64\n",
      "Eduacation          Race      Hisp       \n",
      "PostGraduate        NotBlack  hispanic        8398.397\n",
      "LessThanHighSchool  black     NotHispanic     9966.790\n",
      "graduate            black     NotHispanic    10609.430\n",
      "Intermediate        black     NotHispanic    11038.510\n",
      "LessThanHighSchool  NotBlack  hispanic       11316.730\n",
      "                              NotHispanic    11675.275\n",
      "HighSchool          black     NotHispanic    12074.960\n",
      "Intermediate        NotBlack  hispanic       14198.810\n",
      "HighSchool          NotBlack  hispanic       14908.065\n",
      "Intermediate        NotBlack  NotHispanic    15065.780\n",
      "PostGraduate        black     NotHispanic    17036.805\n",
      "HighSchool          NotBlack  NotHispanic    17431.600\n",
      "graduate            NotBlack  hispanic       17989.010\n",
      "PostGraduate        NotBlack  NotHispanic    18109.500\n",
      "graduate            NotBlack  NotHispanic    18781.530\n",
      "Name: Earnings_1974, dtype: float64\n"
     ]
    }
   ],
   "source": [
    "\n",
    "print(df.groupby([\"Race\", \"Hisp\", \"MaritalStatus\"])[\"Earnings_1978\"].median().sort_values())\n",
    "print(df.groupby([\"Eduacation\", \"Race\", \"Hisp\"])[\"Earnings_1974\"].median().sort_values())"
   ]
  },
  {
   "cell_type": "code",
   "execution_count": 36,
   "metadata": {},
   "outputs": [
    {
     "data": {
      "text/plain": [
       "(91575266.76554328, 85935001.9910381, 93066343.30405259)"
      ]
     },
     "execution_count": 36,
     "metadata": {},
     "output_type": "execute_result"
    }
   ],
   "source": [
    "var_74=np.var(df[\"Earnings_1974\"])\n",
    "var_75=np.var(df[\"Earnings_1975\"])\n",
    "var_78=np.var(df[\"Earnings_1978\"])\n",
    "var_74,var_75,var_78"
   ]
  },
  {
   "cell_type": "code",
   "execution_count": 38,
   "metadata": {},
   "outputs": [
    {
     "data": {
      "text/plain": [
       "1106.779695808831"
      ]
     },
     "execution_count": 38,
     "metadata": {},
     "output_type": "execute_result"
    }
   ],
   "source": [
    "df[\"Earnings_1974\"].median()-df[\"Earnings_1974\"].mean()"
   ]
  },
  {
   "cell_type": "code",
   "execution_count": 39,
   "metadata": {},
   "outputs": [
    {
     "data": {
      "text/plain": [
       "906.3066239268392"
      ]
     },
     "execution_count": 39,
     "metadata": {},
     "output_type": "execute_result"
    }
   ],
   "source": [
    "df[\"Earnings_1975\"].median()-df[\"Earnings_1975\"].mean()"
   ]
  },
  {
   "cell_type": "code",
   "execution_count": 40,
   "metadata": {},
   "outputs": [
    {
     "data": {
      "text/plain": [
       "1575.3153270939874"
      ]
     },
     "execution_count": 40,
     "metadata": {},
     "output_type": "execute_result"
    }
   ],
   "source": [
    "df[\"Earnings_1978\"].median()-df[\"Earnings_1978\"].mean()"
   ]
  },
  {
   "cell_type": "code",
   "execution_count": 54,
   "metadata": {},
   "outputs": [
    {
     "name": "stdout",
     "output_type": "stream",
     "text": [
      "9982.043000000001\n",
      "19664.85\n"
     ]
    }
   ],
   "source": [
    "notmarried = df[df[\"MaritalStatus\"] == \"NotMarried\"]\n",
    "married= df[df[\"MaritalStatus\"]==\"Married\"]\n",
    "print(notmarried[\"Earnings_1978\"].median())\n",
    "print(married[\"Earnings_1978\"].median())"
   ]
  },
  {
   "cell_type": "code",
   "execution_count": 55,
   "metadata": {},
   "outputs": [
    {
     "name": "stdout",
     "output_type": "stream",
     "text": [
      "16717.52\n",
      "13717.74\n"
     ]
    }
   ],
   "source": [
    "notHisp = df[df[\"Hisp\"] == \"NotHispanic\"]\n",
    "hisp= df[df[\"Hisp\"]==\"hispanic\"]\n",
    "print(notHisp[\"Earnings_1978\"].median())\n",
    "print(hisp[\"Earnings_1978\"].median())\n"
   ]
  },
  {
   "cell_type": "code",
   "execution_count": 56,
   "metadata": {},
   "outputs": [
    {
     "name": "stdout",
     "output_type": "stream",
     "text": [
      "16894.11\n",
      "12115.880000000001\n"
     ]
    }
   ],
   "source": [
    "notBlack = df[df[\"Race\"] == \"NotBlack\"]\n",
    "black = df[df[\"Race\"] == \"black\"]\n",
    "print(notBlack[\"Earnings_1978\"].median())\n",
    "print(black[\"Earnings_1978\"].median())"
   ]
  },
  {
   "cell_type": "code",
   "execution_count": 58,
   "metadata": {},
   "outputs": [
    {
     "data": {
      "text/plain": [
       "(16902.59, 11397.05, 14801.279999999999, 18597.36, 17458.045)"
      ]
     },
     "execution_count": 58,
     "metadata": {},
     "output_type": "execute_result"
    }
   ],
   "source": [
    "e1=df[df[\"Eduacation\"] == \"HighSchool\"]\n",
    "e2=df[df[\"Eduacation\"] == \"LessThanHighSchool\"]\n",
    "e3=df[df[\"Eduacation\"] == \"Intermediate\"]\n",
    "e4=df[df[\"Eduacation\"] == \"graduate\"]\n",
    "e5=df[df[\"Eduacation\"] == \"PostGraduate\"]\n",
    "e1[\"Earnings_1974\"].median(), e2[\"Earnings_1974\"].median(),e3[\"Earnings_1974\"].median(), e4[\"Earnings_1974\"].median(),e5[\"Earnings_1974\"].median()"
   ]
  },
  {
   "cell_type": "code",
   "execution_count": 59,
   "metadata": {},
   "outputs": [
    {
     "name": "stdout",
     "output_type": "stream",
     "text": [
      "15526.21\n",
      "11079.65\n"
     ]
    }
   ],
   "source": [
    "notBlack = df[df[\"Race\"] == \"NotBlack\"]\n",
    "black = df[df[\"Race\"] == \"black\"]\n",
    "print(notBlack[\"Earnings_1974\"].median())\n",
    "print(black[\"Earnings_1974\"].median())"
   ]
  },
  {
   "cell_type": "code",
   "execution_count": 60,
   "metadata": {},
   "outputs": [
    {
     "name": "stdout",
     "output_type": "stream",
     "text": [
      "15374.37\n",
      "12668.615\n"
     ]
    }
   ],
   "source": [
    "notHisp = df[df[\"Hisp\"] == \"NotHispanic\"]\n",
    "hisp= df[df[\"Hisp\"]==\"hispanic\"]\n",
    "print(notHisp[\"Earnings_1974\"].median())\n",
    "print(hisp[\"Earnings_1974\"].median())"
   ]
  }
 ],
 "metadata": {
  "kernelspec": {
   "display_name": "Python 3.9.12 ('base')",
   "language": "python",
   "name": "python3"
  },
  "language_info": {
   "codemirror_mode": {
    "name": "ipython",
    "version": 3
   },
   "file_extension": ".py",
   "mimetype": "text/x-python",
   "name": "python",
   "nbconvert_exporter": "python",
   "pygments_lexer": "ipython3",
   "version": "3.9.12"
  },
  "orig_nbformat": 4,
  "vscode": {
   "interpreter": {
    "hash": "23558032b00ee6b68473e6823c75ce9d636029f112ff94112151df65d8686c23"
   }
  }
 },
 "nbformat": 4,
 "nbformat_minor": 2
}
